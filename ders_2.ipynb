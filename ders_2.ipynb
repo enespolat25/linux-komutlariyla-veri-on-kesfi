{
 "cells": [
  {
   "cell_type": "markdown",
   "metadata": {},
   "source": [
    "# **Linux üzerinde Bash Komutları ile Veri Seti Keşfi ve Ön İşleme-2**"
   ]
  },
  {
   "cell_type": "markdown",
   "metadata": {},
   "source": [
    "### **echo** komutu ile  terminal üzerinde bir mesajı ekrana bastırabilir, bir değişkene ait değeri yazdırabiliriz."
   ]
  },
  {
   "cell_type": "code",
   "execution_count": 47,
   "metadata": {},
   "outputs": [
    {
     "name": "stdout",
     "output_type": "stream",
     "text": [
      "merhaba dünya\n"
     ]
    }
   ],
   "source": [
    "!echo 'merhaba dünya'"
   ]
  },
  {
   "cell_type": "code",
   "execution_count": 48,
   "metadata": {},
   "outputs": [
    {
     "name": "stdout",
     "output_type": "stream",
     "text": [
      "Hello GNU Linux\n"
     ]
    }
   ],
   "source": [
    "v1=\"Hello GNU Linux\"\n",
    "!echo $v1"
   ]
  },
  {
   "cell_type": "markdown",
   "metadata": {},
   "source": [
    "### öncelikle işlem yapacağımız iris verisetinin ilk 5 satırını görüntüleyelim"
   ]
  },
  {
   "cell_type": "code",
   "execution_count": 14,
   "metadata": {},
   "outputs": [
    {
     "name": "stdout",
     "output_type": "stream",
     "text": [
      "6.2,3.4,5.4,2.3,Iris-virginica\n",
      "6.5,3.0,5.2,2.0,Iris-virginica\n",
      "6.3,2.5,5.0,1.9,Iris-virginica\n",
      "6.7,3.0,5.2,2.3,Iris-virginica\n",
      "6.7,3.3,5.7,2.5,Iris-virginica\n"
     ]
    }
   ],
   "source": [
    "!head -n 5 veriseti.csv"
   ]
  },
  {
   "cell_type": "markdown",
   "metadata": {},
   "source": [
    "### **echo** veri setimizin ilk satırına sütun isimlerini ekleyelim ve data.csv adıyla kaydedelim"
   ]
  },
  {
   "cell_type": "code",
   "execution_count": 49,
   "metadata": {},
   "outputs": [],
   "source": [
    "!echo \"sepal_length,sepal_width,petal_length,petal_width,species\" | cat - veriseti.csv > data.csv"
   ]
  },
  {
   "cell_type": "code",
   "execution_count": 50,
   "metadata": {},
   "outputs": [
    {
     "name": "stdout",
     "output_type": "stream",
     "text": [
      "sepal_length,sepal_width,petal_length,petal_width,species\n",
      "6.2,3.4,5.4,2.3,Iris-virginica\n",
      "6.5,3.0,5.2,2.0,Iris-virginica\n",
      "6.3,2.5,5.0,1.9,Iris-virginica\n",
      "6.7,3.0,5.2,2.3,Iris-virginica\n"
     ]
    }
   ],
   "source": [
    "!head -n 5 data.csv"
   ]
  },
  {
   "cell_type": "markdown",
   "metadata": {},
   "source": [
    "### **nl** komutu verisetimize satır numaraları ekleyebiliriz."
   ]
  },
  {
   "cell_type": "code",
   "execution_count": 51,
   "metadata": {},
   "outputs": [
    {
     "name": "stdout",
     "output_type": "stream",
     "text": [
      "     1\tsepal_length,sepal_width,petal_length,petal_width,species\n",
      "     2\t6.2,3.4,5.4,2.3,Iris-virginica\n",
      "     3\t6.5,3.0,5.2,2.0,Iris-virginica\n",
      "     4\t6.3,2.5,5.0,1.9,Iris-virginica\n",
      "     5\t6.7,3.0,5.2,2.3,Iris-virginica\n",
      "     6\t6.7,3.3,5.7,2.5,Iris-virginica\n",
      "     7\t6.8,3.2,5.9,2.3,Iris-virginica\n",
      "     8\t5.8,2.7,5.1,1.9,Iris-virginica\n",
      "     9\t6.9,3.1,5.1,2.3,Iris-virginica\n",
      "    10\t6.7,3.1,5.6,2.4,Iris-virginica\n",
      "    11\t6.9,3.1,5.4,2.1,Iris-virginica\n",
      "    12\t6.0,3.0,4.8,1.8,Iris-virginica\n",
      "    13\t6.4,3.1,5.5,1.8,Iris-virginica\n",
      "    14\t6.3,3.4,5.6,2.4,Iris-virginica\n",
      "    15\t7.7,3.0,6.1,2.3,Iris-virginica\n",
      "    16\t6.1,2.6,5.6,1.4,Iris-virginica\n",
      "    17\t6.3,2.8,5.1,1.5,Iris-virginica\n",
      "    18\t6.4,2.8,5.6,2.2,Iris-virginica\n",
      "    19\t7.9,3.8,6.4,2.0,Iris-virginica\n",
      "    20\t7.4,2.8,6.1,1.9,Iris-virginica\n",
      "    21\t7.2,3.0,5.8,1.6,Iris-virginica\n",
      "    22\t6.4,2.8,5.6,2.1,Iris-virginica\n",
      "    23\t6.1,3.0,4.9,1.8,Iris-virginica\n",
      "    24\t6.2,2.8,4.8,1.8,Iris-virginica\n",
      "    25\t7.2,3.2,6.0,1.8,Iris-virginica\n",
      "    26\t6.7,3.3,5.7,2.1,Iris-virginica\n",
      "    27\t6.3,2.7,4.9,1.8,Iris-virginica\n",
      "    28\t7.7,2.8,6.7,2.0,Iris-virginica\n",
      "    29\t5.6,2.8,4.9,2.0,Iris-virginica\n",
      "    30\t6.9,3.2,5.7,2.3,Iris-virginica\n",
      "    31\t6.0,2.2,5.0,1.5,Iris-virginica\n",
      "    32\t7.7,2.6,6.9,2.3,Iris-virginica\n",
      "    33\t7.7,3.8,6.7,2.2,Iris-virginica\n",
      "    34\t6.5,3.0,5.5,1.8,Iris-virginica\n",
      "    35\t6.4,3.2,5.3,2.3,Iris-virginica\n",
      "    36\t5.8,2.8,5.1,2.4,Iris-virginica\n",
      "    37\t5.7,2.5,5.0,2.0,Iris-virginica\n",
      "    38\t6.8,3.0,5.5,2.1,Iris-virginica\n",
      "    39\t6.4,2.7,5.3,1.9,Iris-virginica\n",
      "    40\t6.5,3.2,5.1,2.0,Iris-virginica\n",
      "    41\t7.2,3.6,6.1,2.5,Iris-virginica\n",
      "    42\t6.7,2.5,5.8,1.8,Iris-virginica\n",
      "    43\t7.3,2.9,6.3,1.8,Iris-virginica\n",
      "    44\t4.9,2.5,4.5,1.7,Iris-virginica\n",
      "    45\t7.6,3.0,6.6,2.1,Iris-virginica\n",
      "    46\t6.5,3.0,5.8,2.2,Iris-virginica\n",
      "    47\t6.3,2.9,5.6,1.8,Iris-virginica\n",
      "    48\t7.1,3.0,5.9,2.1,Iris-virginica\n",
      "    49\t5.8,2.7,5.1,1.9,Iris-virginica\n",
      "    50\t6.3,3.3,6.0,2.5,Iris-virginica\n",
      "    51\t5.7,2.8,4.1,1.3,Iris-versicolor\n",
      "    52\t5.1,2.5,3.0,1.1,Iris-versicolor\n",
      "    53\t6.2,2.9,4.3,1.3,Iris-versicolor\n",
      "    54\t5.7,2.9,4.2,1.3,Iris-versicolor\n",
      "    55\t5.7,3.0,4.2,1.2,Iris-versicolor\n",
      "    56\t5.6,2.7,4.2,1.3,Iris-versicolor\n",
      "    57\t5.0,2.3,3.3,1.0,Iris-versicolor\n",
      "    58\t5.8,2.6,4.0,1.2,Iris-versicolor\n",
      "    59\t6.1,3.0,4.6,1.4,Iris-versicolor\n",
      "    60\t5.5,2.6,4.4,1.2,Iris-versicolor\n",
      "    61\t5.5,2.5,4.0,1.3,Iris-versicolor\n",
      "    62\t5.6,3.0,4.1,1.3,Iris-versicolor\n",
      "    63\t6.3,2.3,4.4,1.3,Iris-versicolor\n",
      "    64\t6.7,3.1,4.7,1.5,Iris-versicolor\n",
      "    65\t6.0,3.4,4.5,1.6,Iris-versicolor\n",
      "    66\t5.4,3.0,4.5,1.5,Iris-versicolor\n",
      "    67\t6.0,2.7,5.1,1.6,Iris-versicolor\n",
      "    68\t5.8,2.7,3.9,1.2,Iris-versicolor\n",
      "    69\t5.5,2.4,3.7,1.0,Iris-versicolor\n",
      "    70\t5.5,2.4,3.8,1.1,Iris-versicolor\n",
      "    71\t5.7,2.6,3.5,1.0,Iris-versicolor\n",
      "    72\t6.0,2.9,4.5,1.5,Iris-versicolor\n",
      "    73\t6.7,3.0,5.0,1.7,Iris-versicolor\n",
      "    74\t6.8,2.8,4.8,1.4,Iris-versicolor\n",
      "    75\t6.6,3.0,4.4,1.4,Iris-versicolor\n",
      "    76\t6.4,2.9,4.3,1.3,Iris-versicolor\n",
      "    77\t6.1,2.8,4.7,1.2,Iris-versicolor\n",
      "    78\t6.3,2.5,4.9,1.5,Iris-versicolor\n",
      "    79\t6.1,2.8,4.0,1.3,Iris-versicolor\n",
      "    80\t5.9,3.2,4.8,1.8,Iris-versicolor\n",
      "    81\t5.6,2.5,3.9,1.1,Iris-versicolor\n",
      "    82\t6.2,2.2,4.5,1.5,Iris-versicolor\n",
      "    83\t5.8,2.7,4.1,1.0,Iris-versicolor\n",
      "    84\t5.6,3.0,4.5,1.5,Iris-versicolor\n",
      "    85\t6.7,3.1,4.4,1.4,Iris-versicolor\n",
      "    86\t5.6,2.9,3.6,1.3,Iris-versicolor\n",
      "    87\t6.1,2.9,4.7,1.4,Iris-versicolor\n",
      "    88\t6.0,2.2,4.0,1.0,Iris-versicolor\n",
      "    89\t5.9,3.0,4.2,1.5,Iris-versicolor\n",
      "    90\t5.0,2.0,3.5,1.0,Iris-versicolor\n",
      "    91\t5.2,2.7,3.9,1.4,Iris-versicolor\n",
      "    92\t6.6,2.9,4.6,1.3,Iris-versicolor\n",
      "    93\t4.9,2.4,3.3,1.0,Iris-versicolor\n",
      "    94\t6.3,3.3,4.7,1.6,Iris-versicolor\n",
      "    95\t5.7,2.8,4.5,1.3,Iris-versicolor\n",
      "    96\t6.5,2.8,4.6,1.5,Iris-versicolor\n",
      "    97\t5.5,2.3,4.0,1.3,Iris-versicolor\n",
      "    98\t6.9,3.1,4.9,1.5,Iris-versicolor\n",
      "    99\t6.4,3.2,4.5,1.5,Iris-versicolor\n",
      "   100\t7.0,3.2,4.7,1.4,Iris-versicolor\n",
      "   101\t5.0,3.3,1.4,0.2,Iris-setosa\n",
      "   102\t5.3,3.7,1.5,0.2,Iris-setosa\n",
      "   103\t4.6,3.2,1.4,0.2,Iris-setosa\n",
      "   104\t5.1,3.8,1.6,0.2,Iris-setosa\n",
      "   105\t4.8,3.0,1.4,0.3,Iris-setosa\n",
      "   106\t5.1,3.8,1.9,0.4,Iris-setosa\n",
      "   107\t5.0,3.5,1.6,0.6,Iris-setosa\n",
      "   108\t4.4,3.2,1.3,0.2,Iris-setosa\n",
      "   109\t4.5,2.3,1.3,0.3,Iris-setosa\n",
      "   110\t5.0,3.5,1.3,0.3,Iris-setosa\n",
      "   111\t5.1,3.4,1.5,0.2,Iris-setosa\n",
      "   112\t4.4,3.0,1.3,0.2,Iris-setosa\n",
      "   113\t4.9,3.1,1.5,0.1,Iris-setosa\n",
      "   114\t5.5,3.5,1.3,0.2,Iris-setosa\n",
      "   115\t5.0,3.2,1.2,0.2,Iris-setosa\n",
      "   116\t4.9,3.1,1.5,0.1,Iris-setosa\n",
      "   117\t5.5,4.2,1.4,0.2,Iris-setosa\n",
      "   118\t5.2,4.1,1.5,0.1,Iris-setosa\n",
      "   119\t5.4,3.4,1.5,0.4,Iris-setosa\n",
      "   120\t4.8,3.1,1.6,0.2,Iris-setosa\n",
      "   121\t4.7,3.2,1.6,0.2,Iris-setosa\n",
      "   122\t5.2,3.4,1.4,0.2,Iris-setosa\n",
      "   123\t5.2,3.5,1.5,0.2,Iris-setosa\n",
      "   124\t5.0,3.4,1.6,0.4,Iris-setosa\n",
      "   125\t5.0,3.0,1.6,0.2,Iris-setosa\n",
      "   126\t4.8,3.4,1.9,0.2,Iris-setosa\n",
      "   127\t5.1,3.3,1.7,0.5,Iris-setosa\n",
      "   128\t4.6,3.6,1.0,0.2,Iris-setosa\n",
      "   129\t5.1,3.7,1.5,0.4,Iris-setosa\n",
      "   130\t5.4,3.4,1.7,0.2,Iris-setosa\n",
      "   131\t5.1,3.8,1.5,0.3,Iris-setosa\n",
      "   132\t5.7,3.8,1.7,0.3,Iris-setosa\n",
      "   133\t5.1,3.5,1.4,0.3,Iris-setosa\n",
      "   134\t5.4,3.9,1.3,0.4,Iris-setosa\n",
      "   135\t5.7,4.4,1.5,0.4,Iris-setosa\n",
      "   136\t5.8,4.0,1.2,0.2,Iris-setosa\n",
      "   137\t4.3,3.0,1.1,0.1,Iris-setosa\n",
      "   138\t4.8,3.0,1.4,0.1,Iris-setosa\n",
      "   139\t4.8,3.4,1.6,0.2,Iris-setosa\n",
      "   140\t5.4,3.7,1.5,0.2,Iris-setosa\n",
      "   141\t4.9,3.1,1.5,0.1,Iris-setosa\n",
      "   142\t4.4,2.9,1.4,0.2,Iris-setosa\n",
      "   143\t5.0,3.4,1.5,0.2,Iris-setosa\n",
      "   144\t4.6,3.4,1.4,0.3,Iris-setosa\n",
      "   145\t5.4,3.9,1.7,0.4,Iris-setosa\n",
      "   146\t5.0,3.6,1.4,0.2,Iris-setosa\n",
      "   147\t4.6,3.1,1.5,0.2,Iris-setosa\n",
      "   148\t4.7,3.2,1.3,0.2,Iris-setosa\n",
      "   149\t4.9,3.0,1.4,0.2,Iris-setosa\n",
      "   150\t5.1,3.5,1.4,0.2,Iris-setosa\n"
     ]
    }
   ],
   "source": [
    "!nl data.csv"
   ]
  },
  {
   "cell_type": "markdown",
   "metadata": {},
   "source": [
    "# **split** komutu "
   ]
  },
  {
   "cell_type": "markdown",
   "metadata": {},
   "source": [
    "# **split -l** ile satır sayısı belirterek"
   ]
  },
  {
   "cell_type": "code",
   "execution_count": 52,
   "metadata": {},
   "outputs": [],
   "source": [
    "!split -l 25 data.csv data_"
   ]
  },
  {
   "cell_type": "markdown",
   "metadata": {},
   "source": [
    "# **split -b** ile boyuta göre (byte olarak) veri setimizi bölebiliriz."
   ]
  },
  {
   "cell_type": "code",
   "execution_count": 53,
   "metadata": {},
   "outputs": [],
   "source": [
    "!split -b 1000 data.csv data_byte_"
   ]
  },
  {
   "cell_type": "markdown",
   "metadata": {},
   "source": [
    "# **du -h** ile verisetimizin boyutunu görebiliriz."
   ]
  },
  {
   "cell_type": "code",
   "execution_count": 54,
   "metadata": {},
   "outputs": [
    {
     "name": "stdout",
     "output_type": "stream",
     "text": [
      "8,0K\tdata.csv\n"
     ]
    }
   ],
   "source": [
    "!du -h data.csv"
   ]
  },
  {
   "cell_type": "markdown",
   "metadata": {},
   "source": [
    "# **paste** Komutu\n",
    "\n",
    "paste komutu ile birden fazla dosyayı column based olarak birleştirerek veriseti oluşturmamızı sağlar. Birleştirme yapılırken birleştirilecek dosyanın türüne göre uygun bir delimeter/seperator (örneğin csv için uygun seperator ‘,’) seçilerek birleştirme yapılmalıdır.\n",
    "\n",
    "data.csv dosyamıza id eklemek istiyoruz. Bunun için"
   ]
  },
  {
   "cell_type": "code",
   "execution_count": 55,
   "metadata": {},
   "outputs": [],
   "source": [
    "!seq 149 > id.csv"
   ]
  },
  {
   "cell_type": "markdown",
   "metadata": {},
   "source": [
    "ile 1’den 149’a id oluşturarak id.txt dosyasına yazacağız. Ardından yazdığımız bu dosyaya id alan adını vereceğiz"
   ]
  },
  {
   "cell_type": "code",
   "execution_count": 56,
   "metadata": {},
   "outputs": [],
   "source": [
    "!echo \"id\" | cat - id.csv > id_number.csv"
   ]
  },
  {
   "cell_type": "code",
   "execution_count": 57,
   "metadata": {},
   "outputs": [],
   "source": [
    "!paste -d ',' id_number.csv data.csv > data2.csv"
   ]
  },
  {
   "cell_type": "markdown",
   "metadata": {},
   "source": [
    "# **uniq** komutu\n",
    "Veri seti içerisinde tekrar eden satırları tespit etmek için uniq komutunu kullanacağız.\n",
    "\n",
    "# 5. kolonda tekrar eden değerleri bularak verimizde hangi sınıftan kaç tane var bulalım"
   ]
  },
  {
   "cell_type": "code",
   "execution_count": 58,
   "metadata": {},
   "outputs": [
    {
     "name": "stdout",
     "output_type": "stream",
     "text": [
      "     50 Iris-setosa\n",
      "     50 Iris-versicolor\n",
      "     49 Iris-virginica\n",
      "      1 species\n"
     ]
    }
   ],
   "source": [
    "!cat data.csv | cut -d \",\" -f 5 | sort | uniq -c"
   ]
  },
  {
   "cell_type": "markdown",
   "metadata": {},
   "source": [
    "uniq komutunu algoritmatik bir biçimde inceleyecek olursak:\n",
    "\n",
    "1- cat data.csv ile dosyamızı okuyoruz. Çıktısını | pipe operatörü ile bir sonraki komuta girdi olarak sağlıyoruz.\n",
    "\n",
    "2- cut -d “,” -f 5 komutu ile data.csv dosyasında 5 sütunda bulunan spicies bilgisi seçiyoruz. Çıktısını | pipe operatörü ile bir sonraki komuta girdi olarak sağlıyoruz.\n",
    "\n",
    "3- sort komutu ile gender sütunu altında yer alan gözlemleri sıralıyoruz ve | pipe komutu ile bir sonraki komuta girdi sağlıyoruz.\n",
    "\n",
    "4- uniq -c komutu ile ilgili sütun için benzersiz gözlemler ve count bilgileri ekrana bastırılacaktır."
   ]
  },
  {
   "cell_type": "markdown",
   "metadata": {},
   "source": [
    "# **sed** Komutu ile veri setinde string olarak değişiklikler yapma"
   ]
  },
  {
   "cell_type": "code",
   "execution_count": 59,
   "metadata": {},
   "outputs": [
    {
     "name": "stdout",
     "output_type": "stream",
     "text": [
      "id,sepal_length,sepal_width,petal_length,petal_width,species\n",
      "1,6.2,3.4,5.4,2.3,Iris-virginica\n",
      "2,6.5,3.0,5.2,2.0,Iris-virginica\n",
      "3,6.3,2.5,5.0,1.9,Iris-virginica\n",
      "4,6.7,3.0,5.2,2.3,Iris-virginica\n",
      "id,sepal_length,sepal_width,petal_length,petal_width,species\n",
      "1,6.2,3.4,5.4,2.3,*virginica\n",
      "2,6.5,3.0,5.2,2.0,*virginica\n",
      "3,6.3,2.5,5.0,1.9,*virginica\n",
      "4,6.7,3.0,5.2,2.3,*virginica\n"
     ]
    }
   ],
   "source": [
    "!head -n 5 data4.csv\n",
    "!cat data4.csv | sed -i 's/Iris//g' data4.csv \n",
    "!cat data4.csv | sed -i 's/-/*/g' data4.csv \n",
    "!head -n 5 data3.csv"
   ]
  },
  {
   "cell_type": "markdown",
   "metadata": {},
   "source": [
    "sed komutunu algoritmatik bir biçimde inceleyecek olursak:\n",
    "\n",
    "1- head -n 5 data4.csv dosyasını okuduk\n",
    "\n",
    "2- cat data4.csv | sed -i ‘s/Iris//g’ data4.csv komutu ile Iris olan gözlemleri boşluk olarak -i parametresi ile üzerine yazılarak (inplace) data4.csv dosyasına yazdık.\n",
    "\n",
    "3- cat PersonData.csv | sed -i ‘s/-/*/g’ data4.csv komutu ile - olan gözlemleri * olarak -i parametresi ile üzerine yazılarak (inplace) data4.csv dosyasına yazdık.\n",
    "\n",
    "4- head -n 5 data4.csv dosyasını ile değişiklikleri gözlemledik."
   ]
  },
  {
   "cell_type": "code",
   "execution_count": 60,
   "metadata": {},
   "outputs": [
    {
     "name": "stdout",
     "output_type": "stream",
     "text": [
      "sepal_length,sepal_width,petal_length,petal_width,species\n",
      "6.2,3.4,5.4,2.3,Iris-virginica\n",
      "6.5,3.0,5.2,2.0,Iris-virginica\n",
      "6.3,2.5,5.0,1.9,Iris-virginica\n",
      "6.7,3.0,5.2,2.3,Iris-virginica\n"
     ]
    }
   ],
   "source": [
    "!head -n 5 data.csv"
   ]
  },
  {
   "cell_type": "markdown",
   "metadata": {},
   "source": [
    "# **awk** ile  2 numaralı kaydı getir"
   ]
  },
  {
   "cell_type": "code",
   "execution_count": 61,
   "metadata": {},
   "outputs": [
    {
     "name": "stdout",
     "output_type": "stream",
     "text": [
      "6.2,3.4,5.4,2.3,Iris-virginica\n"
     ]
    }
   ],
   "source": [
    "!awk -F, 'NR == 2' data.csv"
   ]
  },
  {
   "cell_type": "markdown",
   "metadata": {},
   "source": [
    "# **awk** ile data.csv dosyasından 5. kolonu 'Iris-virginica' olan satırların 1,2 ve 3 nolu kolonlarını getir"
   ]
  },
  {
   "cell_type": "code",
   "execution_count": 63,
   "metadata": {},
   "outputs": [
    {
     "name": "stdout",
     "output_type": "stream",
     "text": [
      "sepal_length,sepal_width,petal_length,petal_width,species\n",
      "6.2,3.4,5.4,2.3,Iris-virginica\n",
      "6.5,3.0,5.2,2.0,Iris-virginica\n",
      "6.3,2.5,5.0,1.9,Iris-virginica\n",
      "6.7,3.0,5.2,2.3,Iris-virginica\n"
     ]
    }
   ],
   "source": [
    "!head -n 5 data.csv"
   ]
  },
  {
   "cell_type": "code",
   "execution_count": 64,
   "metadata": {},
   "outputs": [
    {
     "name": "stdout",
     "output_type": "stream",
     "text": [
      "6.2, 3.4, 5.4\n",
      "6.5, 3.0, 5.2\n",
      "6.3, 2.5, 5.0\n",
      "6.7, 3.0, 5.2\n",
      "6.7, 3.3, 5.7\n",
      "6.8, 3.2, 5.9\n",
      "5.8, 2.7, 5.1\n",
      "6.9, 3.1, 5.1\n",
      "6.7, 3.1, 5.6\n",
      "6.9, 3.1, 5.4\n",
      "6.0, 3.0, 4.8\n",
      "6.4, 3.1, 5.5\n",
      "6.3, 3.4, 5.6\n",
      "7.7, 3.0, 6.1\n",
      "6.1, 2.6, 5.6\n",
      "6.3, 2.8, 5.1\n",
      "6.4, 2.8, 5.6\n",
      "7.9, 3.8, 6.4\n",
      "7.4, 2.8, 6.1\n",
      "7.2, 3.0, 5.8\n",
      "6.4, 2.8, 5.6\n",
      "6.1, 3.0, 4.9\n",
      "6.2, 2.8, 4.8\n",
      "7.2, 3.2, 6.0\n",
      "6.7, 3.3, 5.7\n",
      "6.3, 2.7, 4.9\n",
      "7.7, 2.8, 6.7\n",
      "5.6, 2.8, 4.9\n",
      "6.9, 3.2, 5.7\n",
      "6.0, 2.2, 5.0\n",
      "7.7, 2.6, 6.9\n",
      "7.7, 3.8, 6.7\n",
      "6.5, 3.0, 5.5\n",
      "6.4, 3.2, 5.3\n",
      "5.8, 2.8, 5.1\n",
      "5.7, 2.5, 5.0\n",
      "6.8, 3.0, 5.5\n",
      "6.4, 2.7, 5.3\n",
      "6.5, 3.2, 5.1\n",
      "7.2, 3.6, 6.1\n",
      "6.7, 2.5, 5.8\n",
      "7.3, 2.9, 6.3\n",
      "4.9, 2.5, 4.5\n",
      "7.6, 3.0, 6.6\n",
      "6.5, 3.0, 5.8\n",
      "6.3, 2.9, 5.6\n",
      "7.1, 3.0, 5.9\n",
      "5.8, 2.7, 5.1\n",
      "6.3, 3.3, 6.0\n"
     ]
    }
   ],
   "source": [
    "!awk -F, '$5==\"Iris-virginica\" { print $1\", \"$2\", \"$3 }' data.csv"
   ]
  },
  {
   "cell_type": "code",
   "execution_count": null,
   "metadata": {},
   "outputs": [],
   "source": []
  }
 ],
 "metadata": {
  "kernelspec": {
   "display_name": "Python 3",
   "language": "python",
   "name": "python3"
  },
  "language_info": {
   "codemirror_mode": {
    "name": "ipython",
    "version": 3
   },
   "file_extension": ".py",
   "mimetype": "text/x-python",
   "name": "python",
   "nbconvert_exporter": "python",
   "pygments_lexer": "ipython3",
   "version": "3.6.7"
  }
 },
 "nbformat": 4,
 "nbformat_minor": 4
}
